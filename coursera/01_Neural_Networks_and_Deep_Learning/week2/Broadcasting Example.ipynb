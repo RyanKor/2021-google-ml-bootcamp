{
 "cells": [
  {
   "cell_type": "markdown",
   "id": "7768def6",
   "metadata": {},
   "source": [
    "## Broadcasting이란?\n",
    "\n",
    "- numpy가 산술 연산 중에 다른 형을 가진 배열을 어떻게 처리하는지 나타낸다. \n",
    "\n",
    "\n",
    "\n",
    "- 특정 제한 하에, 더 작은 배열은 더 큰 배열에 맞게 broadcast 되어서 상응하는 형을 가진다.\n",
    "\n",
    "\n",
    "\n",
    "- Broadcasting은 배열 연산을 벡터화하기위한 수단으로 제공되고 반복은 파이썬 대신에 C로 일어난다. \n",
    "\n",
    "\n",
    "\n",
    "- 자료의 불필요한 복사를 하지 않고 대게 효율적인 알고리즘 실행으로 이끈다. \n",
    "\n",
    "\n",
    "\n",
    "- 그러나, broadcasting이 나쁜 방안인 경우가 있다. \n",
    "\n",
    "\n",
    "\n",
    "- 왜냐하면 연산을 느리게하는 메모리의 효율적이지 않은 사용으로 이어지기 때문이다.\n",
    "\n",
    "\n",
    "- 본래 서로 다른 두 자료형은 연산이 되지 않는다. \n",
    "\n",
    "\n",
    "- 다만, numpy를 사용할 때 이러한 자료형 검사가 좀 더 유연하게 진행되는 것 같다."
   ]
  },
  {
   "cell_type": "code",
   "execution_count": 2,
   "id": "197d21e1",
   "metadata": {},
   "outputs": [
    {
     "name": "stdout",
     "output_type": "stream",
     "text": [
      "[[ 56.    0.    4.4  68. ]\n",
      " [  1.2 104.   52.    8. ]\n",
      " [  1.8 135.   99.    0.9]]\n"
     ]
    }
   ],
   "source": [
    "import numpy as np\n",
    "\n",
    "A = np.array([[56.0,0.0,4.4,68.0],\n",
    "             [1.2,104.0,52.0,8.0],\n",
    "              [1.8,135.0,99.0,0.9]\n",
    "             ])\n",
    "\n",
    "print(A)"
   ]
  },
  {
   "cell_type": "code",
   "execution_count": 2,
   "id": "cfc94992",
   "metadata": {},
   "outputs": [
    {
     "name": "stdout",
     "output_type": "stream",
     "text": [
      "[ 59.  239.  155.4  76.9]\n"
     ]
    }
   ],
   "source": [
    "cal = A.sum(axis=0) # row direction\n",
    "print(cal)"
   ]
  },
  {
   "cell_type": "code",
   "execution_count": 4,
   "id": "7ab1f094",
   "metadata": {},
   "outputs": [
    {
     "name": "stdout",
     "output_type": "stream",
     "text": [
      "[[94.91525424  0.          2.83140283 88.42652796]\n",
      " [ 2.03389831 43.51464435 33.46203346 10.40312094]\n",
      " [ 3.05084746 56.48535565 63.70656371  1.17035111]]\n"
     ]
    }
   ],
   "source": [
    "# 세로축 기준으로 합을 구했을 때, 각 비율 계산하기\n",
    "# reshape(1,4)는 직관적으로 이해할 수 있게 추가한 메소드임.\n",
    "percentage = 100 * A/cal#.reshape(1,4) \n",
    "print(percentage)"
   ]
  }
 ],
 "metadata": {
  "kernelspec": {
   "display_name": "Python 3 (ipykernel)",
   "language": "python",
   "name": "python3"
  },
  "language_info": {
   "codemirror_mode": {
    "name": "ipython",
    "version": 3
   },
   "file_extension": ".py",
   "mimetype": "text/x-python",
   "name": "python",
   "nbconvert_exporter": "python",
   "pygments_lexer": "ipython3",
   "version": "3.8.2"
  }
 },
 "nbformat": 4,
 "nbformat_minor": 5
}
