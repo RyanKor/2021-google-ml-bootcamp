{
 "cells": [
  {
   "cell_type": "code",
   "execution_count": 1,
   "id": "0518bae4",
   "metadata": {},
   "outputs": [
    {
     "name": "stdout",
     "output_type": "stream",
     "text": [
      "[0.99502822 0.44683727 0.86134759 0.1150056  0.03489082]\n"
     ]
    }
   ],
   "source": [
    "import numpy as np\n",
    "\n",
    "a = np.random.rand(5) #a.shape = (5,)\n",
    "\n",
    "print(a) # rank 1 array"
   ]
  },
  {
   "cell_type": "code",
   "execution_count": 2,
   "id": "10e721d5",
   "metadata": {},
   "outputs": [
    {
     "name": "stdout",
     "output_type": "stream",
     "text": [
      "(5,)\n"
     ]
    }
   ],
   "source": [
    "print(a.shape)"
   ]
  },
  {
   "cell_type": "code",
   "execution_count": 3,
   "id": "60b2f7d4",
   "metadata": {},
   "outputs": [
    {
     "name": "stdout",
     "output_type": "stream",
     "text": [
      "[0.99502822 0.44683727 0.86134759 0.1150056  0.03489082]\n"
     ]
    }
   ],
   "source": [
    "print(a.T) # transpose"
   ]
  },
  {
   "cell_type": "code",
   "execution_count": 4,
   "id": "e5e88c54",
   "metadata": {},
   "outputs": [
    {
     "name": "stdout",
     "output_type": "stream",
     "text": [
      "1.9461080241039632\n"
     ]
    }
   ],
   "source": [
    "print(np.dot(a,a.T))"
   ]
  },
  {
   "cell_type": "code",
   "execution_count": 5,
   "id": "add17e76",
   "metadata": {},
   "outputs": [
    {
     "name": "stdout",
     "output_type": "stream",
     "text": [
      "[[0.10949663]\n",
      " [0.15521517]\n",
      " [0.45470462]\n",
      " [0.95001735]\n",
      " [0.63682726]]\n"
     ]
    }
   ],
   "source": [
    "a = np.random.rand(5,1)\n",
    "print(a)"
   ]
  },
  {
   "cell_type": "code",
   "execution_count": 6,
   "id": "bc82090a",
   "metadata": {},
   "outputs": [
    {
     "name": "stdout",
     "output_type": "stream",
     "text": [
      "[[0.10949663 0.15521517 0.45470462 0.95001735 0.63682726]]\n"
     ]
    }
   ],
   "source": [
    "print(a.T)"
   ]
  },
  {
   "cell_type": "code",
   "execution_count": 7,
   "id": "1e337329",
   "metadata": {},
   "outputs": [
    {
     "name": "stdout",
     "output_type": "stream",
     "text": [
      "[[0.01198951 0.01699554 0.04978862 0.1040237  0.06973044]\n",
      " [0.01699554 0.02409175 0.07057705 0.1474571  0.09884525]\n",
      " [0.04978862 0.07057705 0.20675629 0.43197727 0.28956829]\n",
      " [0.1040237  0.1474571  0.43197727 0.90253296 0.60499694]\n",
      " [0.06973044 0.09884525 0.28956829 0.60499694 0.40554896]]\n"
     ]
    }
   ],
   "source": [
    "print(np.dot(a,a.T))"
   ]
  },
  {
   "cell_type": "code",
   "execution_count": null,
   "id": "5d014af8",
   "metadata": {},
   "outputs": [],
   "source": []
  }
 ],
 "metadata": {
  "kernelspec": {
   "display_name": "Python 3 (ipykernel)",
   "language": "python",
   "name": "python3"
  },
  "language_info": {
   "codemirror_mode": {
    "name": "ipython",
    "version": 3
   },
   "file_extension": ".py",
   "mimetype": "text/x-python",
   "name": "python",
   "nbconvert_exporter": "python",
   "pygments_lexer": "ipython3",
   "version": "3.8.2"
  }
 },
 "nbformat": 4,
 "nbformat_minor": 5
}
