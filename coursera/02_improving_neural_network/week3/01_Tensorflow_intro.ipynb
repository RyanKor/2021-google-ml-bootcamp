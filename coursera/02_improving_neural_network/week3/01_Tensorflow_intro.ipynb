{
  "nbformat": 4,
  "nbformat_minor": 0,
  "metadata": {
    "colab": {
      "name": "Untitled0.ipynb",
      "provenance": [],
      "collapsed_sections": []
    },
    "kernelspec": {
      "name": "python3",
      "display_name": "Python 3"
    },
    "language_info": {
      "name": "python"
    }
  },
  "cells": [
    {
      "cell_type": "code",
      "metadata": {
        "id": "L7bBcE-mtqJx"
      },
      "source": [
        "import numpy as np\n",
        "import tensorflow as tf"
      ],
      "execution_count": 1,
      "outputs": []
    },
    {
      "cell_type": "code",
      "metadata": {
        "colab": {
          "base_uri": "https://localhost:8080/"
        },
        "id": "AjqMa4p_tznZ",
        "outputId": "88396e49-2bba-4d9b-9d44-6c776e6075ff"
      },
      "source": [
        "w = tf.Variable(0, dtype=tf.float32)\n",
        "optimizer = tf.keras.optimizers.Adam(0.1)\n",
        "\n",
        "def train_step():\n",
        "    with tf.GradientTape() as tape:\n",
        "        cost = w ** 2 - 10*w + 25\n",
        "    trainable_variables = [w]\n",
        "    grads = tape.gradient(cost, trainable_variables)\n",
        "    optimizer.apply_gradients(zip(grads, trainable_variables))\n",
        "print(w)"
      ],
      "execution_count": 13,
      "outputs": [
        {
          "output_type": "stream",
          "text": [
            "<tf.Variable 'Variable:0' shape=() dtype=float32, numpy=0.0>\n"
          ],
          "name": "stdout"
        }
      ]
    },
    {
      "cell_type": "code",
      "metadata": {
        "colab": {
          "base_uri": "https://localhost:8080/"
        },
        "id": "T4n2cME7t1Zh",
        "outputId": "58d762c2-a1bb-4fec-a111-8f9267905039"
      },
      "source": [
        "train_step()\n",
        "print(w)"
      ],
      "execution_count": 14,
      "outputs": [
        {
          "output_type": "stream",
          "text": [
            "<tf.Variable 'Variable:0' shape=() dtype=float32, numpy=0.09999997>\n"
          ],
          "name": "stdout"
        }
      ]
    },
    {
      "cell_type": "code",
      "metadata": {
        "colab": {
          "base_uri": "https://localhost:8080/"
        },
        "id": "eZEQuTBgt3E-",
        "outputId": "04afa1da-5bb4-4d4e-fba3-b6e102bd77c3"
      },
      "source": [
        "for i in range(1000):\n",
        "    train_step()\n",
        "print(w)"
      ],
      "execution_count": 15,
      "outputs": [
        {
          "output_type": "stream",
          "text": [
            "<tf.Variable 'Variable:0' shape=() dtype=float32, numpy=5.000001>\n"
          ],
          "name": "stdout"
        }
      ]
    },
    {
      "cell_type": "code",
      "metadata": {
        "colab": {
          "base_uri": "https://localhost:8080/"
        },
        "id": "P9R0N5EAt4hQ",
        "outputId": "2f86be1a-0fd4-40fd-e76a-73b8af199793"
      },
      "source": [
        "w = tf.Variable(0, dtype=tf.float32)\n",
        "\n",
        "x = np.array([1.0,-10.0,25.0], dtype=np.float32)\n",
        "\n",
        "optimizer = tf.keras.optimizers.Adam(0.1)\n",
        "\n",
        "def training(x,w,optimizer):\n",
        "    def cost_fn():\n",
        "        return x[0] * w ** 2 + x[1] * w + x[2]\n",
        "    \n",
        "    for i in range(1000):\n",
        "        optimizer.minimize(cost_fn, [w])\n",
        "    \n",
        "    return w\n",
        "\n",
        "w = training(x,w,optimizer)\n",
        "print(w)"
      ],
      "execution_count": 18,
      "outputs": [
        {
          "output_type": "stream",
          "text": [
            "<tf.Variable 'Variable:0' shape=() dtype=float32, numpy=5.000001>\n"
          ],
          "name": "stdout"
        }
      ]
    }
  ]
}