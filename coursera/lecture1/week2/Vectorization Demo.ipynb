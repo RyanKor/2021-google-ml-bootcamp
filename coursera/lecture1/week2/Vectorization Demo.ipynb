{
 "cells": [
  {
   "cell_type": "code",
   "execution_count": 1,
   "id": "6ccd4ff5",
   "metadata": {},
   "outputs": [
    {
     "name": "stdout",
     "output_type": "stream",
     "text": [
      "[1 2 3 4]\n"
     ]
    }
   ],
   "source": [
    "import numpy as np\n",
    "\n",
    "a = np.array([1,2,3,4])\n",
    "\n",
    "print(a)"
   ]
  },
  {
   "cell_type": "markdown",
   "id": "0c873b40",
   "metadata": {},
   "source": [
    "### 손실함수와 비용함수의 개념적인 구분 정리\n",
    "\n",
    "- 비용함수는 하나의 훈련 샘플에 대한 에러를 계산하는 과정에서 발생한 값이고, 손실 함수는 이렇게 발생한 손실 값들의 전체 평균 값을 구한 것\n",
    "\n",
    "- The cost function computes the error for a single training example; the loss function is the average of the cost functions of the entire training set."
   ]
  },
  {
   "cell_type": "markdown",
   "id": "4a719593",
   "metadata": {},
   "source": [
    "### 선형 회귀 함수 및 미분 공식 정리\n",
    "\n",
    "- $ z = \\mathbf{w}^\\intercal \\mathbf{x} + b$\n",
    "\n",
    "- $\\sigma(z) = \\frac{\\mathrm{1} }{\\mathrm{1} + e^{-z} }$\n",
    "\n",
    "- $\\hat{y} = \\sigma(\\mathbf{w}^\\intercal \\mathbf{x} + b)$\n",
    "\n",
    "- $\\frac{\\partial a}{\\partial z} = a(1 - a)$\n",
    "\n",
    "\n",
    "- $\\frac{\\partial L}{\\partial z} = a - y$\n",
    "\n",
    "- $\\frac{\\partial L}{\\partial z} = \\frac{\\partial L}{\\partial a} * \\frac{\\partial a}{\\partial z}$\n",
    "\n",
    "- $\\frac{\\partial L}{\\partial z} = \\frac{a-y}{a(1-a)} * a(1-a) = a - y$"
   ]
  },
  {
   "cell_type": "markdown",
   "id": "5d6e5cf3",
   "metadata": {},
   "source": [
    "### `np.dot(w,x)` 사용 목적\n",
    "\n",
    "- `np.dot(w,x)` 는 w의 전치행렬 변환 후 x 행렬과의 곱을 표현한 값이다.\n",
    "\n",
    "- 중요한 사실은 `np.dot`을 사용하지 않아도 구현은 가능하지만 아래의 코드처럼 연산 효율성이 너무 극명하게 차이난다.\n",
    "\n",
    "- 수업에서도 `Neural Network Programming Guideline`으로 제시하는 것은\n",
    "\n",
    "    - Whenever possible, avoid explicit for-loops다."
   ]
  },
  {
   "cell_type": "code",
   "execution_count": 4,
   "id": "89a63061",
   "metadata": {},
   "outputs": [
    {
     "name": "stdout",
     "output_type": "stream",
     "text": [
      "249940.25107871738\n",
      "Vectorized Version :  0.4520416259765625 ms\n",
      "249940.25107872527\n",
      "For loop :  359.3590259552002 ms\n"
     ]
    }
   ],
   "source": [
    "import time\n",
    "\n",
    "b = np.random.rand(1000000)\n",
    "c = np.random.rand(1000000)\n",
    "\n",
    "tic = time.time()\n",
    "d = np.dot(b,c) # 연산 효율성이 저세상 속도인데? for 반복문 사용할 때보다 300배 이상 빠르다.\n",
    "toc = time.time()\n",
    "\n",
    "print(d)\n",
    "print(\"Vectorized Version : \", str(1000*(toc - tic)), \"ms\")\n",
    "\n",
    "d = 0\n",
    "tic = time.time()\n",
    "for i in range(1000000):\n",
    "    d += b[i] * c[i] \n",
    "toc = time.time()\n",
    "\n",
    "print(d)\n",
    "print(\"For loop : \", str(1000*(toc - tic)), \"ms\")"
   ]
  },
  {
   "cell_type": "markdown",
   "id": "ef29c2e9",
   "metadata": {},
   "source": [
    "### `Neural Network Programming Guideline`\n",
    "v 행렬의 연산 값을 \n",
    "\n",
    "**v =**\\begin{bmatrix} \n",
    "v1 \\\\ ... \\\\ vn\n",
    "\\end{bmatrix}\n",
    "\n",
    "**u =** \\begin{bmatrix} \n",
    "e^{v1} \\\\ ... \\\\ e^{vn}\n",
    "\\end{bmatrix}\n",
    "\n",
    "형태로 전환하고 싶을 때, `Whenever possible, avoid explicit for-loops` 원칙에 따라\n",
    "\n",
    "```python\n",
    "u = np.zeros((n,1))\n",
    "for i in range(n):\n",
    "  u[i] = math.exp(v[i])\n",
    "```\n",
    "\n",
    "라고 표현 가능한 것을 되도록\n",
    "\n",
    "```python\n",
    "import numpy as np\n",
    "u = np.exp(v) # 이렇게 사용이 가능하다.\n",
    "# 아래는 numpy 다양한 활용법\n",
    "np.log(v)\n",
    "np.abs(v)\n",
    "np.maxinum(v,o)\n",
    "```"
   ]
  },
  {
   "cell_type": "code",
   "execution_count": null,
   "id": "d7c90091",
   "metadata": {},
   "outputs": [],
   "source": []
  }
 ],
 "metadata": {
  "kernelspec": {
   "display_name": "Python 3 (ipykernel)",
   "language": "python",
   "name": "python3"
  },
  "language_info": {
   "codemirror_mode": {
    "name": "ipython",
    "version": 3
   },
   "file_extension": ".py",
   "mimetype": "text/x-python",
   "name": "python",
   "nbconvert_exporter": "python",
   "pygments_lexer": "ipython3",
   "version": "3.8.2"
  }
 },
 "nbformat": 4,
 "nbformat_minor": 5
}
