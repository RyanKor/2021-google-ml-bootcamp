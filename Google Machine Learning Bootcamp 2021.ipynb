{
 "cells": [
  {
   "cell_type": "markdown",
   "id": "b18dba61",
   "metadata": {},
   "source": [
    "## Google Machine Learning Bootcamp 2021 파이썬 정답"
   ]
  },
  {
   "cell_type": "code",
   "execution_count": 1,
   "id": "dbf3ac3e",
   "metadata": {},
   "outputs": [],
   "source": [
    "import numpy as np\n",
    "import datetime"
   ]
  },
  {
   "cell_type": "code",
   "execution_count": 2,
   "id": "e232828f",
   "metadata": {},
   "outputs": [
    {
     "name": "stdout",
     "output_type": "stream",
     "text": [
      "<class 'set'>\n",
      "<class 'list'>\n",
      "<class 'tuple'>\n",
      "<class 'set'>\n"
     ]
    }
   ],
   "source": [
    "# 1. 다음 컬렉션 중에서 파이썬 List 타입을 고르시오. *\n",
    "\n",
    "print(type({\"spam\",\"egg\",\"bean\"})) # 틀림 <class 'set'>\n",
    "print(type([\"spam\" , \"egg\" , \"bean\"])) # 정답 <class 'list'>\n",
    "print(type((\"spam\", \"egg\" , \"bean\"))) # 틀림  <class 'tuple'>\n",
    "print(type(set(\"list\"))) # 틀림 <class 'set'>"
   ]
  },
  {
   "cell_type": "code",
   "execution_count": 3,
   "id": "cb6fe333",
   "metadata": {},
   "outputs": [
    {
     "name": "stdout",
     "output_type": "stream",
     "text": [
      "[2, 4, 6]\n",
      "[]\n",
      "[1, 3, 5]\n",
      "[1]\n"
     ]
    }
   ],
   "source": [
    "# 2. 이름이 people인 List에서 짝수번째 모든 요소를 선택하는 방법으로 옳은 것은? *\n",
    "people = [1,2,3,4,5,6] # 내가 만든 예시\n",
    "print(people[1::2]) # 정답 : 짝수번째 모든 요소를 선택 (짝수번째 인덱스가 아닌) / [2, 4, 6]\n",
    "print(people[1:1:2]) # 틀림 / []\n",
    "print(people[::2]) # 틀림 / [1, 3, 5]\n",
    "print(people[:1:2]) # 틀림 / [1]"
   ]
  },
  {
   "cell_type": "code",
   "execution_count": 6,
   "id": "08fc3cfb",
   "metadata": {},
   "outputs": [
    {
     "name": "stdout",
     "output_type": "stream",
     "text": [
      "5\n",
      "1\n",
      "7\n",
      "3\n"
     ]
    }
   ],
   "source": [
    "# 3. 2차원 numpy 배열인 A 에서 가로 2번째, 세로 첫번째 요소를 구하는 방법은 ? \n",
    "# ( 세로축은 axis = 0, 가로축은 axis = 1 이라고 하자 ) *\n",
    "A = np.array([\n",
    "           [0,1,2],\n",
    "           [3,4,5],\n",
    "           [6,7,8]\n",
    "         ])\n",
    "print(A[1][2])\n",
    "print(A[0][1])\n",
    "print(A[2][1])\n",
    "print(A[1][0]) # 정답 : 가로 2번째, 세로 첫번째 요소 (인덱스 상에선 1,0 위치에 있음)\n",
    "# print(A)"
   ]
  },
  {
   "cell_type": "code",
   "execution_count": 3,
   "id": "bcdbe633",
   "metadata": {},
   "outputs": [
    {
     "name": "stdout",
     "output_type": "stream",
     "text": [
      "2021-07-28\n"
     ]
    }
   ],
   "source": [
    "# 4. datetime 모듈을 이용하여 내일의 날짜를 구하는 방법으로 옳은 것은? *\n",
    "# print(datetime.datetime.now() + datetime.timedelta(day=1)) # 틀림 : 'day' is an invalid keyword argument for __new__()\n",
    "print(datetime.date.today() + datetime.timedelta(days=1)) #정답 -> 오늘 기준 내일 날짜를 구하는 것이므로\n",
    "# print(datetime.datetime.now(days += 1))\n",
    "# print(datetime.datetime.today()++)"
   ]
  },
  {
   "cell_type": "code",
   "execution_count": 18,
   "id": "d79feefe",
   "metadata": {},
   "outputs": [
    {
     "data": {
      "text/plain": [
       "array([[6, 4],\n",
       "       [6, 5]])"
      ]
     },
     "execution_count": 18,
     "metadata": {},
     "output_type": "execute_result"
    }
   ],
   "source": [
    "# 5. 다음과 같은 numpy 배열 a와 b가 주어졌을때, np.dot(a, b)의 결과로 옳은 것은? *\n",
    "a = [[2,1],[1,2]]\n",
    "b = [[2,1],[2,2]]\n",
    "np.dot(a,b)\n",
    "# 1 : array([[8, 12], [10, 12]])\n",
    "# 2 : array([[4, 6], [5, 6]])\n",
    "# 3 : array([[6, 4], [6, 5]]) # correct answer\n",
    "# 4 : array([[12, 8], [12, 10]])"
   ]
  },
  {
   "cell_type": "code",
   "execution_count": 4,
   "id": "bfd30431",
   "metadata": {},
   "outputs": [
    {
     "name": "stdout",
     "output_type": "stream",
     "text": [
      "10.1.2.1\n",
      "10.1.1.9\n"
     ]
    }
   ],
   "source": [
    "# 6. 다음과 같은 내용이 들어 있는 log.txt 파일에서 IP 주소를 출력하는 파이썬 코드를 고르시오. *\n",
    "\"\"\"\n",
    "10.1.2.1 - spam [10/Oct/2021:13:55:36 +0900] “GET / python HTTP/1.0” 200 2326\n",
    "10.1.1.9 - egg [10/Oct/2021:13:55:36 +0900] “GET / python HTTP/1.0” 200 2326\n",
    "\"\"\"\n",
    "# for line in open(\"log.txt\"): print(split(line[0])) # wrong\n",
    "for line in open(\"log.txt\",\"r\"): print(line.split()[0]) # answer\n",
    "# for line in \"log.txt\": print(line.split()[0]) # wrong\n",
    "# for line in open(\"log.txt\",\"w\"): print(line.split()[1]) # wrong"
   ]
  },
  {
   "cell_type": "code",
   "execution_count": 5,
   "id": "a16d0e99",
   "metadata": {},
   "outputs": [
    {
     "name": "stdout",
     "output_type": "stream",
     "text": [
      "spam\n",
      "spam\n",
      "spam\n",
      "spam\n"
     ]
    }
   ],
   "source": [
    "# 7. 다음과 같은 파이썬 자료 구조 SPAM에서 가장 최근 날짜순으로 메뉴 이름을 출력하는 파이썬 코드를 고르시오. *\n",
    "SPAM = \\\n",
    "[[\"2021/07/01\", \"spam\"],\n",
    " [\"2021/07/02\", \"spam\"],\n",
    " [\"2021/06/29\", \"spam\"],\n",
    " [\"2021/07/03\", \"spam\"]]\n",
    "# for data in SPAM.sorted(reverse=True): print(data[1]) # wrong answer / 'list' object has no attribute 'sorted'\n",
    "# for data in SPAM.sort(reversed=True): print(data[0]) # wrong answer / 'reversed' is an invalid keyword argument for sort()\n",
    "# for data in SPAM.sort(reverse=True): print(data[0]) # wrong answer / 'NoneType' object is not iterable\n",
    "for data in sorted(SPAM, reverse=True): print(data[1]) # correct answer / result : spam 가장 최근 날짜 순으로 메뉴 이름 출력"
   ]
  },
  {
   "cell_type": "code",
   "execution_count": null,
   "id": "22515c31",
   "metadata": {},
   "outputs": [],
   "source": []
  }
 ],
 "metadata": {
  "kernelspec": {
   "display_name": "Python 3",
   "language": "python",
   "name": "python3"
  },
  "language_info": {
   "codemirror_mode": {
    "name": "ipython",
    "version": 3
   },
   "file_extension": ".py",
   "mimetype": "text/x-python",
   "name": "python",
   "nbconvert_exporter": "python",
   "pygments_lexer": "ipython3",
   "version": "3.8.2"
  }
 },
 "nbformat": 4,
 "nbformat_minor": 5
}
