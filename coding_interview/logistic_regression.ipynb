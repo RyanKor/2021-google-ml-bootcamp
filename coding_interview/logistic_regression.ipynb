{
 "cells": [
  {
   "cell_type": "markdown",
   "id": "78e2aa29",
   "metadata": {},
   "source": [
    "# 로지스틱 회귀 함수를 사이킷런 사용 없이 구현해보기\n",
    "\n",
    "## 구현 순서\n",
    "\n",
    "## 1. Do it! 딥러닝 프로그래밍 로지스틱함수 뉴런 구현 (완료)\n",
    "\n",
    "## 2. Do it! 딥러닝 프로그래밍 로지스틱함수 단일 신경망 구현 (완료)\n",
    "\n",
    "## 3. Do it! 딥러닝 프로그래밍 로지스틱함수 사이킷런 구현 (완료)\n",
    "\n",
    "## 4. 코세라 딥러닝 특화과정 로지스틱 함수 신경망 구현 (구현 중)\n",
    "\n",
    "아마 실무에 투입이 된다면, 상황에 따라 텐서플로우나 파이토치와 같은 딥러닝 프레임워크를 기업에 맞게 매핑해서 사용하는 경우가 반드시 존재할 것이다.\n",
    "\n",
    "따라서 \n",
    "\n",
    "- 상황에 맞는 적절한 딥러닝 훈련 모델을 선택할 수 있어야하고\n",
    "\n",
    "- 라이브러리 없이 구현해야하는 상황이 분명히 존재하기 때문에\n",
    "\n",
    "이러한 상황에 발 맞춰 코드를 이해하는 작업을 추가하게 되었다."
   ]
  },
  {
   "cell_type": "code",
   "execution_count": 1,
   "id": "b806e237",
   "metadata": {},
   "outputs": [],
   "source": [
    "import numpy as np\n",
    "import copy\n",
    "import matplotlib.pyplot as plt\n",
    "import h5py\n",
    "import scipy\n",
    "from PIL import Image\n",
    "from scipy import ndimage\n",
    "\n",
    "from sklearn.datasets import load_breast_cancer"
   ]
  },
  {
   "cell_type": "markdown",
   "id": "528b1fcd",
   "metadata": {},
   "source": [
    "## 사전 준비 : 데이터셋 로딩\n",
    "\n",
    "사용하는 데이터 셋은 사이킷런에서 미국 위스콘신 주의 유방암 데이터이며, 타겟 데이터는 0/1로 분류되어 있다 (유방암 존재 유무)"
   ]
  },
  {
   "cell_type": "code",
   "execution_count": 2,
   "id": "6cff5eec",
   "metadata": {},
   "outputs": [],
   "source": [
    "cancer = load_breast_cancer() "
   ]
  },
  {
   "cell_type": "code",
   "execution_count": 3,
   "id": "80b1cbeb",
   "metadata": {},
   "outputs": [
    {
     "name": "stdout",
     "output_type": "stream",
     "text": [
      "(569, 30) (569,)\n"
     ]
    }
   ],
   "source": [
    "print(cancer.data.shape, cancer.target.shape)\n",
    "# 암 데이터에서 569개의 샘플이 있고, 30개의 특성이 있는 것을 확인"
   ]
  },
  {
   "cell_type": "code",
   "execution_count": 4,
   "id": "3d4ce91a",
   "metadata": {},
   "outputs": [
    {
     "data": {
      "text/plain": [
       "array([[1.799e+01, 1.038e+01, 1.228e+02, 1.001e+03, 1.184e-01, 2.776e-01,\n",
       "        3.001e-01, 1.471e-01, 2.419e-01, 7.871e-02, 1.095e+00, 9.053e-01,\n",
       "        8.589e+00, 1.534e+02, 6.399e-03, 4.904e-02, 5.373e-02, 1.587e-02,\n",
       "        3.003e-02, 6.193e-03, 2.538e+01, 1.733e+01, 1.846e+02, 2.019e+03,\n",
       "        1.622e-01, 6.656e-01, 7.119e-01, 2.654e-01, 4.601e-01, 1.189e-01],\n",
       "       [2.057e+01, 1.777e+01, 1.329e+02, 1.326e+03, 8.474e-02, 7.864e-02,\n",
       "        8.690e-02, 7.017e-02, 1.812e-01, 5.667e-02, 5.435e-01, 7.339e-01,\n",
       "        3.398e+00, 7.408e+01, 5.225e-03, 1.308e-02, 1.860e-02, 1.340e-02,\n",
       "        1.389e-02, 3.532e-03, 2.499e+01, 2.341e+01, 1.588e+02, 1.956e+03,\n",
       "        1.238e-01, 1.866e-01, 2.416e-01, 1.860e-01, 2.750e-01, 8.902e-02],\n",
       "       [1.969e+01, 2.125e+01, 1.300e+02, 1.203e+03, 1.096e-01, 1.599e-01,\n",
       "        1.974e-01, 1.279e-01, 2.069e-01, 5.999e-02, 7.456e-01, 7.869e-01,\n",
       "        4.585e+00, 9.403e+01, 6.150e-03, 4.006e-02, 3.832e-02, 2.058e-02,\n",
       "        2.250e-02, 4.571e-03, 2.357e+01, 2.553e+01, 1.525e+02, 1.709e+03,\n",
       "        1.444e-01, 4.245e-01, 4.504e-01, 2.430e-01, 3.613e-01, 8.758e-02]])"
      ]
     },
     "execution_count": 4,
     "metadata": {},
     "output_type": "execute_result"
    }
   ],
   "source": [
    "cancer.data[:3] # 30개의 특성을 1개의 샘플로 묶어놓은 것을 알 수 있음"
   ]
  },
  {
   "cell_type": "code",
   "execution_count": 5,
   "id": "283068bf",
   "metadata": {},
   "outputs": [
    {
     "data": {
      "image/png": "[encoded data removed]",
      "text/plain": [
       "<Figure size 432x288 with 1 Axes>"
      ]
     },
     "metadata": {
      "needs_background": "light"
     },
     "output_type": "display_data"
    }
   ],
   "source": [
    "# 위의 데이터 시각화 해보기\n",
    "\n",
    "plt.boxplot(cancer.data)\n",
    "plt.xlabel(\"feature\")\n",
    "plt.ylabel(\"value\")\n",
    "plt.show()\n",
    "# 4, 14, 24번째 특징이 두드러지는 색깔을 갖고 있음"
   ]
  },
  {
   "cell_type": "code",
   "execution_count": 6,
   "id": "eaac98d8",
   "metadata": {},
   "outputs": [
    {
     "data": {
      "text/plain": [
       "array(['mean area', 'area error', 'worst area'], dtype='<U23')"
      ]
     },
     "execution_count": 6,
     "metadata": {},
     "output_type": "execute_result"
    }
   ],
   "source": [
    "# 각 특징을 확인해보니, 모두 area (즉, 넓이)\n",
    "cancer.feature_names[[3,13,23]]"
   ]
  },
  {
   "cell_type": "code",
   "execution_count": 7,
   "id": "ac3475fe",
   "metadata": {},
   "outputs": [
    {
     "data": {
      "text/plain": [
       "(array([0, 1]), array([212, 357]))"
      ]
     },
     "execution_count": 7,
     "metadata": {},
     "output_type": "execute_result"
    }
   ],
   "source": [
    "# 그러나 여기서 해결해야하는 문제는 현재 암에 걸렸는지, 암이 아닌지를 판별하는 과정임 (즉, 이진분류)\n",
    "# cancer.target에는 2가지 값만 있는 것을 확인할 수 있음\n",
    "np.unique(cancer.target, return_counts=True) # 암 유무를 0/1로 표현했고, 각 갯수가 몇 개씩 등장하는지 갯수까지 카운트 해줌"
   ]
  },
  {
   "cell_type": "code",
   "execution_count": 8,
   "id": "c8e7ce5a",
   "metadata": {},
   "outputs": [],
   "source": [
    "# 데이터 세트 저장하기\n",
    "x = cancer.data\n",
    "y = cancer.target"
   ]
  },
  {
   "cell_type": "code",
   "execution_count": 9,
   "id": "3e21d0d5",
   "metadata": {},
   "outputs": [],
   "source": [
    "from sklearn.model_selection import train_test_split"
   ]
  },
  {
   "cell_type": "code",
   "execution_count": 10,
   "id": "b1872ccd",
   "metadata": {},
   "outputs": [],
   "source": [
    "# stratify 는 훈련 데이터를 나눌 때 클래스 비율을 동일하게 만들 수 있다.\n",
    "x_train, x_test, y_train, y_test = train_test_split(x, y, stratify = y, test_size=0.2, random_state=42)"
   ]
  },
  {
   "cell_type": "code",
   "execution_count": 11,
   "id": "4790e09a",
   "metadata": {},
   "outputs": [
    {
     "name": "stdout",
     "output_type": "stream",
     "text": [
      "(455, 30) (114, 30)\n",
      "(455,) (114,)\n"
     ]
    },
    {
     "data": {
      "text/plain": [
       "(array([0, 1]), array([170, 285]))"
      ]
     },
     "execution_count": 11,
     "metadata": {},
     "output_type": "execute_result"
    }
   ],
   "source": [
    "print(x_train.shape, x_test.shape)\n",
    "print(y_train.shape, y_test.shape)\n",
    "np.unique(y_train, return_counts=True)"
   ]
  },
  {
   "cell_type": "markdown",
   "id": "88a3e8c9",
   "metadata": {},
   "source": [
    "## 1. do it 딥러닝 입문에서 구현한 로지스틱 회귀 함수 뉴런\n",
    "\n",
    "로지스틱 회귀 함수 자체를 구현하는 것에 어려움은 없다.\n",
    "\n",
    "그러나 이걸 한 개의 뉴런으로 만들어서 작업해야하는 상황이라면?"
   ]
  },
  {
   "cell_type": "code",
   "execution_count": 12,
   "id": "94b7f5e9",
   "metadata": {},
   "outputs": [],
   "source": [
    "class DoItLogisticNeuron:\n",
    "    def __init__(self):\n",
    "        self.w = None\n",
    "        self.b = None\n",
    "    \n",
    "    def forward_propagation(self, x):\n",
    "        z = np.sum(self.w * x) + self.b\n",
    "        return z\n",
    "    \n",
    "    def backward_propagation(self,x, err):\n",
    "        dw = x * err\n",
    "        db = 1 * err\n",
    "        return dw, db\n",
    "    \n",
    "    def activation(self, z):\n",
    "        z = np.clip(z, -100, None)\n",
    "        a = 1 / (1 + np.exp(-z))\n",
    "        return a\n",
    "    \n",
    "    def fit(self, x, y, epochs = 100):\n",
    "        self.w = np.ones(x.shape[1])\n",
    "        self.b = 0\n",
    "        for i in range(epochs):\n",
    "            for x_i, y_i in zip(x, y):\n",
    "                z = self.forward_propagation(x_i)\n",
    "                a = self.activation(z)\n",
    "                err = - (y_i - a)\n",
    "                dw, db = self.backward_propagation(x_i, err)\n",
    "                self.w -= dw\n",
    "                self.b -= db\n",
    "    def predict(self, x):\n",
    "        z = [self.forward_propagation(x_i) for x_i in x]\n",
    "        a = self.activation(np.array(z))\n",
    "        \n",
    "        return a > 0.5"
   ]
  },
  {
   "cell_type": "code",
   "execution_count": 13,
   "id": "55228198",
   "metadata": {},
   "outputs": [],
   "source": [
    "neuron = DoItLogisticNeuron()\n",
    "neuron.fit(x_train, y_train)"
   ]
  },
  {
   "cell_type": "code",
   "execution_count": 14,
   "id": "08be6b81",
   "metadata": {},
   "outputs": [
    {
     "data": {
      "text/plain": [
       "0.8245614035087719"
      ]
     },
     "execution_count": 14,
     "metadata": {},
     "output_type": "execute_result"
    }
   ],
   "source": [
    "np.mean(neuron.predict(x_test) == y_test)"
   ]
  },
  {
   "cell_type": "markdown",
   "id": "8069e31b",
   "metadata": {},
   "source": [
    "## 2. do it 딥러닝 입문에서 구현한 로지스틱 회귀 함수 단일 신경망\n",
    "\n",
    "위에서 한 개의 뉴런을 구현한 것이었다면, 이번에는 한 층의 신경망을 구현해 이진 분류의 정확도를 높이는 방법으로 진행한다."
   ]
  },
  {
   "cell_type": "code",
   "execution_count": 15,
   "id": "1f375571",
   "metadata": {},
   "outputs": [],
   "source": [
    "class DoItSigleLayerLogistic:\n",
    "    def __init__(self):\n",
    "        self.w = None\n",
    "        self.b = None\n",
    "        self.losses = []\n",
    "    \n",
    "    def forward_propagation(self, x):\n",
    "        z = np.sum(self.w * x) + self.b\n",
    "        return z\n",
    "    \n",
    "    def backward_propagation(self,x, err):\n",
    "        dw = x * err\n",
    "        db = 1 * err\n",
    "        return dw, db\n",
    "    \n",
    "    def activation(self, z):\n",
    "        z = np.clip(z, -100, None)\n",
    "        a = 1 / (1 + np.exp(-z))\n",
    "        return a\n",
    "    \n",
    "    def fit(self, x, y, epochs = 100):\n",
    "        self.w = np.ones(x.shape[1])\n",
    "        self.b = 0\n",
    "        for i in range(epochs):\n",
    "            loss = 0\n",
    "            idx = np.random.permutation(np.arange(len(x))) # 인덱스 셔플\n",
    "            for j in idx:\n",
    "                z = self.forward_propagation(x[j])\n",
    "                a = self.activation(z)\n",
    "                \n",
    "                err = - (y[j] - a)\n",
    "                dw, db = self.backward_propagation(x[j], err)\n",
    "                self.w -= dw\n",
    "                self.b -= db\n",
    "                a = np.clip(a, 1e-10, 1-1e-10) # 안전한 로그 계산을 위한 클리핑 후 손실 누적 작업?\n",
    "                \n",
    "                loss += -(y[j] * np.log(a) + (1-y[j]) * np.log(1-a))\n",
    "            self.losses.append(loss/len(y))\n",
    "    def predict(self, x):\n",
    "        z = [self.forward_propagation(x_i) for x_i in x]\n",
    "        return np.array(z) > 0 #스텝 함수 적용?\n",
    "    \n",
    "    def score(self, x, y):\n",
    "        return np.mean(self.predict(x) == y)"
   ]
  },
  {
   "cell_type": "code",
   "execution_count": 16,
   "id": "2b618a1d",
   "metadata": {},
   "outputs": [
    {
     "data": {
      "text/plain": [
       "0.6842105263157895"
      ]
     },
     "execution_count": 16,
     "metadata": {},
     "output_type": "execute_result"
    }
   ],
   "source": [
    "layer = DoItSigleLayerLogistic()\n",
    "\n",
    "layer.fit(x_train, y_train)\n",
    "layer.score(x_test, y_test)"
   ]
  },
  {
   "cell_type": "code",
   "execution_count": 17,
   "id": "85b60c04",
   "metadata": {},
   "outputs": [
    {
     "data": {
      "image/png": "[encoded data removed]",
      "text/plain": [
       "<Figure size 432x288 with 1 Axes>"
      ]
     },
     "metadata": {
      "needs_background": "light"
     },
     "output_type": "display_data"
    }
   ],
   "source": [
    "plt.plot(layer.losses)\n",
    "plt.xlabel(\"epoch\")\n",
    "plt.ylabel(\"loss\")\n",
    "plt.show()"
   ]
  },
  {
   "cell_type": "markdown",
   "id": "82788bad",
   "metadata": {},
   "source": [
    "## 3. 사이킷런으로 로지스틱 회귀 수행하기"
   ]
  },
  {
   "cell_type": "code",
   "execution_count": 18,
   "id": "d99a5650",
   "metadata": {},
   "outputs": [],
   "source": [
    "from sklearn.linear_model import SGDClassifier\n",
    "\n",
    "# tol : 지정한 값만큼 손실함수 값이 감소하지 않으면 실행 중지\n",
    "\n",
    "sgd = SGDClassifier(loss=\"log\", max_iter=100, tol=1e-3, random_state=42)"
   ]
  },
  {
   "cell_type": "code",
   "execution_count": 19,
   "id": "cd7d7e49",
   "metadata": {},
   "outputs": [
    {
     "data": {
      "text/plain": [
       "0.8333333333333334"
      ]
     },
     "execution_count": 19,
     "metadata": {},
     "output_type": "execute_result"
    }
   ],
   "source": [
    "sgd.fit(x_train, y_train)\n",
    "sgd.score(x_test, y_test)"
   ]
  },
  {
   "cell_type": "code",
   "execution_count": 20,
   "id": "a73268fc",
   "metadata": {},
   "outputs": [
    {
     "data": {
      "text/plain": [
       "array([0, 1, 0, 0, 0, 0, 1, 0, 0, 0])"
      ]
     },
     "execution_count": 20,
     "metadata": {},
     "output_type": "execute_result"
    }
   ],
   "source": [
    "sgd.predict(x_test[:10])"
   ]
  },
  {
   "cell_type": "markdown",
   "id": "69f8541a",
   "metadata": {},
   "source": [
    "## 4. Coursera에서 구현된 로지스틱 함수 클래스 객체화 & 유방암 분류 모델에 적용해보기"
   ]
  },
  {
   "cell_type": "code",
   "execution_count": 33,
   "id": "d080107a",
   "metadata": {},
   "outputs": [],
   "source": [
    "class CourseraLogistic:\n",
    "    \n",
    "    def __init__(self):\n",
    "        self.w = None\n",
    "        self.b = None\n",
    "    \n",
    "    def sigmoid(self, z):\n",
    "        \n",
    "        s = 1 / (1 + np.exp(-z))\n",
    "\n",
    "        return s\n",
    "    \n",
    "    def forward(self, x, y):\n",
    "        m = x.shape[1]\n",
    "        \n",
    "        A = self.sigmoid(np.dot(self.w.T, x) + self.b)\n",
    "        \n",
    "        cost = np.multiply(-(1/m), np.sum(y * np.log(A) + (1-y) * np.log(A)))\n",
    "        \n",
    "        cost = np.squeeze(np.array(cost))\n",
    "        \n",
    "        return cost\n",
    "    \n",
    "    def backward(self, x, y):\n",
    "        m = x.shape[1]\n",
    "        \n",
    "        A = self.sigmoid(np.dot(self.w.T, x) + self.b)\n",
    "        \n",
    "        dw = np.multiply(1/m, np.dot(x, (A-y).T))\n",
    "        \n",
    "        db = np.multiply(1/m, np.sum(A-y))\n",
    "        \n",
    "        grads = {\"dw\" : dw, \"db\" : db}\n",
    "        \n",
    "        return grads\n",
    "    \n",
    "    def optimizer(self, x, y, epochs=100, learning_rate=0.009, print_cost=True):\n",
    "        \n",
    "        costs = []\n",
    "        \n",
    "        for i in range(epochs):\n",
    "            \n",
    "            cost = self.forward(x,y)\n",
    "            \n",
    "            grads = self.backward(x,y)\n",
    "            \n",
    "            dw = grads[\"dw\"]\n",
    "            \n",
    "            db = grads[\"db\"]\n",
    "            \n",
    "            w = w - learning_rate * dw\n",
    "            b = b - learning_rate * db\n",
    "\n",
    "            # YOUR CODE ENDS HERE\n",
    "\n",
    "            # Record the costs\n",
    "            if i % 100 == 0:\n",
    "                costs.append(cost)\n",
    "\n",
    "                # Print the cost every 100 training iterations\n",
    "                if print_cost:\n",
    "                    print (\"Cost after iteration %i: %f\" %(i, cost))\n",
    "    \n",
    "        params = {\"w\": w,\n",
    "                  \"b\": b}\n",
    "\n",
    "        grads = {\"dw\": dw,\n",
    "                 \"db\": db}\n",
    "\n",
    "        return params, grads, costs\n",
    "    \n",
    "    def predict(self,x):\n",
    "        \n",
    "        m = x.shape[1]\n",
    "        \n",
    "        y_pred = np.zeros((1,m))\n",
    "        \n",
    "        w = w.reshape(x.shape[0], 1)\n",
    "        \n",
    "        A = self.sigmoid(np.dot(w.T, x) + b)\n",
    "        \n",
    "        for i in range(A.shape[1]):\n",
    "            \n",
    "            if A[0, i] > 0.5 :\n",
    "                Y_prediction[0,i] = 1\n",
    "            else:\n",
    "                Y_prediction[0,i] = 0\n",
    "        \n",
    "        return y_pred\n",
    "    \n",
    "    def model(self, x_train, y_train, x_test, y_test, epochs=2000, learning_rate=0.5, print_cost=False):\n",
    "        \n",
    "        self.w = np.zeros((x_train.shape[0], 1))\n",
    "        self.b = 0\n",
    "        \n",
    "        params, grads, costs = self.optimizer(x_train, y_train, epochs, learning_rate, print_cost)\n",
    "        \n",
    "        self.w = params[\"w\"]\n",
    "        self.b = params[\"b\"]\n",
    "        \n",
    "        y_pred_test = predict(x_test)\n",
    "        \n",
    "        y_pred_train = predict(x_train)\n",
    "        \n",
    "        if print_cost:\n",
    "            print(\"train accuracy: {} %\".format(100 - np.mean(np.abs(y_pred_train - y_train)) * 100))\n",
    "            print(\"test accuracy: {} %\".format(100 - np.mean(np.abs(y_pred_test - y_test)) * 100))\n",
    "\n",
    "\n",
    "        d = {\"costs\": costs,\n",
    "             \"y_pred_test\": y_pred_test, \n",
    "             \"y_pred_train\" : Y_pred_train, \n",
    "             \"w\" : w, \n",
    "             \"b\" : b,\n",
    "             \"learning_rate\" : learning_rate,\n",
    "             \"epochs\": epochs}\n",
    "\n",
    "        return d"
   ]
  },
  {
   "cell_type": "code",
   "execution_count": 35,
   "id": "70cd862f",
   "metadata": {},
   "outputs": [],
   "source": [
    "layer = CourseraLogistic()\n",
    "\n",
    "layer.model(x_train, y_train, x_test, y_test)"
   ]
  },
  {
   "cell_type": "code",
   "execution_count": null,
   "id": "dab3dc2c",
   "metadata": {},
   "outputs": [],
   "source": []
  }
 ],
 "metadata": {
  "kernelspec": {
   "display_name": "TensorFlow 2.5 on Python 3.8 & CUDA 11.3",
   "language": "python",
   "name": "python3"
  },
  "language_info": {
   "codemirror_mode": {
    "name": "ipython",
    "version": 3
   },
   "file_extension": ".py",
   "mimetype": "text/x-python",
   "name": "python",
   "nbconvert_exporter": "python",
   "pygments_lexer": "ipython3",
   "version": "3.8.10"
  }
 },
 "nbformat": 4,
 "nbformat_minor": 5
}
